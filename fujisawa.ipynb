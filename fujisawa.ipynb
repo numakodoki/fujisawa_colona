{
  "nbformat": 4,
  "nbformat_minor": 0,
  "metadata": {
    "colab": {
      "name": "fujisawa.ipynb",
      "provenance": [],
      "collapsed_sections": []
    },
    "kernelspec": {
      "name": "python3",
      "display_name": "Python 3"
    },
    "language_info": {
      "name": "python"
    }
  },
  "cells": [
    {
      "cell_type": "markdown",
      "source": [
        "[![Open In Colab](https://colab.research.google.com/assets/colab-badge.svg)](https://colab.research.google.com/github/numakodoki/fujisawa_colona/blob/develop/fujisawa.ipynb)"
      ],
      "metadata": {
        "id": "LeWG-QALZs-A"
      }
    },
    {
      "cell_type": "code",
      "execution_count": 7,
      "metadata": {
        "colab": {
          "base_uri": "https://localhost:8080/"
        },
        "id": "peRpD3l_Zr3B",
        "outputId": "ed5d6674-5bea-4a2e-c30e-e76d018e203b"
      },
      "outputs": [
        {
          "output_type": "stream",
          "name": "stdout",
          "text": [
            "Reading package lists... Done\n",
            "Building dependency tree       \n",
            "Reading state information... Done\n",
            "The following package was automatically installed and is no longer required:\n",
            "  libnvidia-common-470\n",
            "Use 'apt autoremove' to remove it.\n",
            "The following NEW packages will be installed:\n",
            "  poppler-utils\n",
            "0 upgraded, 1 newly installed, 0 to remove and 39 not upgraded.\n",
            "Need to get 154 kB of archives.\n",
            "After this operation, 613 kB of additional disk space will be used.\n",
            "Get:1 http://archive.ubuntu.com/ubuntu bionic-updates/main amd64 poppler-utils amd64 0.62.0-2ubuntu2.12 [154 kB]\n",
            "Fetched 154 kB in 1s (183 kB/s)\n",
            "Selecting previously unselected package poppler-utils.\n",
            "(Reading database ... 155320 files and directories currently installed.)\n",
            "Preparing to unpack .../poppler-utils_0.62.0-2ubuntu2.12_amd64.deb ...\n",
            "Unpacking poppler-utils (0.62.0-2ubuntu2.12) ...\n",
            "Setting up poppler-utils (0.62.0-2ubuntu2.12) ...\n",
            "Processing triggers for man-db (2.8.3-2ubuntu0.1) ...\n",
            "  % Total    % Received % Xferd  Average Speed   Time    Time     Time  Current\n",
            "                                 Dload  Upload   Total   Spent    Left  Speed\n",
            "100  451k  100  451k    0     0   334k      0  0:00:01  0:00:01 --:--:--  334k\n"
          ]
        }
      ],
      "source": [
        "import os\n",
        "\n",
        "os.makedirs('data/', exist_ok=True)\n",
        "\n",
        "!apt-get install poppler-utils\n",
        "!file=`curl -s \"https://www.city.fujisawa.kanagawa.jp/hokenyobo/corona_doukou_data.html\" -o - | grep -oP '\\d{8,8}_pr.pdf' | sed 's/.pdf//g'` && curl http://www.city.fujisawa.kanagawa.jp/hokenyobo/documents/${file}.pdf -o data/${file}.pdf && pdftotext -layout data/${file}.pdf - | awk 'BEGIN { OFS=\",\"; print \"No,患者概要,年代,性別,居住地,職業,陽性判明日,症状,推定発生事由\"; } NR>=31 { print $1, $2, $3, $4, $5, $6, $7, $8, $9 }' > data/${file}.csv\n",
        "\n",
        "\n",
        "import pandas as pd\n",
        "import sys\n",
        "import re\n",
        "import glob\n",
        "\n",
        "\n",
        "def fujisawa():\n",
        "    infile = glob.glob('data/*_pr.csv')[0]\n",
        "    df = pd.read_csv(infile, encoding='utf8')\n",
        "    df = df.loc[~df['No'].isna(), :]\n",
        "    df.set_index('No', inplace=True)\n",
        "    df = df.filter(regex='^\\d+', axis=0)\n",
        "    outfile = infile.replace('.csv', '_1.csv')\n",
        "    df.to_csv(outfile, encoding='utf8', index=True)\n",
        "\n",
        "\n",
        "def main():\n",
        "    fujisawa()\n",
        "\n",
        "\n",
        "main()"
      ]
    },
    {
      "cell_type": "markdown",
      "source": [
        "# 新しいセクション"
      ],
      "metadata": {
        "id": "GDbMZeg9cqL8"
      }
    }
  ]
}